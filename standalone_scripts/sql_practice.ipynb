{
 "cells": [
  {
   "cell_type": "code",
   "execution_count": 1,
   "id": "861a460f-39b6-4031-b03a-63bef57b694d",
   "metadata": {},
   "outputs": [],
   "source": [
    "module load r"
   ]
  },
  {
   "cell_type": "code",
   "execution_count": 2,
   "id": "53411123-36a5-40c7-90a3-3c93ff6c993c",
   "metadata": {},
   "outputs": [
    {
     "name": "stdout",
     "output_type": "stream",
     "text": [
      "-- Loading resources from /shared/home/hong/.sqliterc\n",
      "┌────────────────────────────────┐\n",
      "│ count(distinct(run_accession)) │\n",
      "├────────────────────────────────┤\n",
      "│ 155                            │\n",
      "└────────────────────────────────┘\n"
     ]
    }
   ],
   "source": [
    "sqlite3 -cmd \".mode box\" /shared/projects/form_2022_19/pascal/central_database/sample_collab.db \\\n",
    "\"select count(distinct(run_accession)) \\\n",
    "from bracken_abundances_long ;\""
   ]
  },
  {
   "cell_type": "code",
   "execution_count": 3,
   "id": "054c7a91-1414-4747-a9c8-3dd312f37802",
   "metadata": {},
   "outputs": [
    {
     "name": "stdout",
     "output_type": "stream",
     "text": [
      "-- Loading resources from /shared/home/hong/.sqliterc\n",
      "┌────────────────────────┐\n",
      "│        username        │\n",
      "├────────────────────────┤\n",
      "│ osharma                │\n",
      "│ jnakamoto              │\n",
      "│ fjennysdotterolofsgard │\n",
      "│ jjddpig                │\n",
      "│ spapavasileiou         │\n",
      "│ xiyas                  │\n",
      "│ msmelik                │\n",
      "│ aegorov                │\n",
      "│ carlga                 │\n",
      "│ buenoalvezm            │\n",
      "│ lsteiner               │\n",
      "│ hong                   │\n",
      "│ geriksson              │\n",
      "│ jzhu                   │\n",
      "│ phingamp               │\n",
      "│ ldahl                  │\n",
      "│ zliu                   │\n",
      "└────────────────────────┘\n"
     ]
    }
   ],
   "source": [
    "sqlite3 -cmd \".mode box\" /shared/projects/form_2022_19/pascal/central_database/sample_collab.db \\\n",
    "\"select distinct(username) \\\n",
    "from (bracken_abundances_long abu left join sample_annot using(run_accession)) left join sample2bioinformatician s2b using(patient_code)\""
   ]
  },
  {
   "cell_type": "code",
   "execution_count": 1,
   "id": "ffd3e811-c472-43f6-b4fe-f1da20a21792",
   "metadata": {},
   "outputs": [
    {
     "name": "stdout",
     "output_type": "stream",
     "text": [
      "-- Loading resources from /shared/home/hong/.sqliterc\n",
      "┌───────────────┬──────────────────────────────────┬─────────────┬──────────────┬───────────────────────┬─────────────┬───────────────┬──────────────────────┐\n",
      "│ run_accession │            taxon_name            │ taxonomy_id │ taxonomy_lvl │ kraken_assigned_reads │ added_reads │ new_est_reads │ fraction_total_reads │\n",
      "├───────────────┼──────────────────────────────────┼─────────────┼──────────────┼───────────────────────┼─────────────┼───────────────┼──────────────────────┤\n",
      "│ ERR6913139    │ Streptococcus sp. oral taxon 431 │ 712633      │ S            │ 14058                 │ 685         │ 14743         │ 0.02138              │\n",
      "│ ERR6913139    │ Streptococcus sp. oral taxon 061 │ 712623      │ S            │ 10466                 │ 477         │ 10943         │ 0.01587              │\n",
      "│ ERR6913139    │ Streptococcus sp. A12            │ 1759399     │ S            │ 5521                  │ 660         │ 6181          │ 0.00896              │\n",
      "│ ERR6913139    │ Streptococcus sp. 116-D4         │ 2598453     │ S            │ 2068                  │ 195         │ 2263          │ 0.00328              │\n",
      "│ ERR6913139    │ Streptococcus sp. HSISM1         │ 1316408     │ S            │ 1732                  │ 334         │ 2066          │ 0.003                │\n",
      "└───────────────┴──────────────────────────────────┴─────────────┴──────────────┴───────────────────────┴─────────────┴───────────────┴──────────────────────┘\n"
     ]
    }
   ],
   "source": [
    "sqlite3 -cmd \".mode box\" /shared/projects/form_2022_19/pascal/central_database/sample_collab.db \\\n",
    "\"select * from bracken_abundances_long limit 5\""
   ]
  },
  {
   "cell_type": "code",
   "execution_count": 3,
   "id": "d63ded3f-cf66-48e9-9ccb-efbf92008747",
   "metadata": {},
   "outputs": [
    {
     "name": "stdout",
     "output_type": "stream",
     "text": [
      "-- Loading resources from /shared/home/hong/.sqliterc\n",
      "┌───────────────────────────┐\n",
      "│ sum(fraction_total_reads) │\n",
      "├───────────────────────────┤\n",
      "│ 0.99695                   │\n",
      "│ 0.99461                   │\n",
      "│ 0.987089999999999         │\n",
      "│ 0.990039999999994         │\n",
      "│ 0.999570000000003         │\n",
      "└───────────────────────────┘\n"
     ]
    }
   ],
   "source": [
    "sqlite3 -cmd \".mode box\" /shared/projects/form_2022_19/pascal/central_database/sample_collab.db \\\n",
    "\"select sum(fraction_total_reads) from bracken_abundances_long group by run_accession limit 5\""
   ]
  },
  {
   "cell_type": "code",
   "execution_count": 18,
   "id": "386b1731-8c09-4f1c-94f5-44a981655341",
   "metadata": {},
   "outputs": [
    {
     "name": "stdout",
     "output_type": "stream",
     "text": [
      "-- Loading resources from /shared/home/hong/.sqliterc\n",
      "┌───────────────┬───────────────────────────────────────────────────────┬─────────────┬──────────────┬───────────────────────┬─────────────┬───────────────┬──────────────────────┐\n",
      "│ run_accession │                      taxon_name                       │ taxonomy_id │ taxonomy_lvl │ kraken_assigned_reads │ added_reads │ new_est_reads │ fraction_total_reads │\n",
      "├───────────────┼───────────────────────────────────────────────────────┼─────────────┼──────────────┼───────────────────────┼─────────────┼───────────────┼──────────────────────┤\n",
      "│ ERR6913252    │ Human coronavirus HKU1                                │ 290028      │ S            │ 80                    │ 0           │ 80            │ 0.01067              │\n",
      "│ ERR6913261    │ Human coronavirus NL63                                │ 277944      │ S            │ 21                    │ 0           │ 21            │ 0.02336              │\n",
      "│ ERR6913235    │ Severe acute respiratory syndrome-related coronavirus │ 694009      │ S            │ 6                     │ 0           │ 6             │ 1.0e-05              │\n",
      "└───────────────┴───────────────────────────────────────────────────────┴─────────────┴──────────────┴───────────────────────┴─────────────┴───────────────┴──────────────────────┘\n"
     ]
    }
   ],
   "source": [
    "sqlite3 -cmd \".mode box\" /shared/projects/form_2022_19/pascal/central_database/sample_collab.db \\\n",
    "\"select * from bracken_abundances_long where taxon_name like '% coronavirus%' group by taxon_name\""
   ]
  },
  {
   "cell_type": "code",
   "execution_count": 23,
   "id": "d4e0a030-176a-47a5-ac93-98b7bd57e194",
   "metadata": {},
   "outputs": [
    {
     "name": "stdout",
     "output_type": "stream",
     "text": [
      "-- Loading resources from /shared/home/hong/.sqliterc\n",
      "┌───────────────┬───────────┐\n",
      "│ run_accession │ abundance │\n",
      "├───────────────┼───────────┤\n",
      "│ ERR6913216    │ 0.77807   │\n",
      "│ ERR6913199    │ 0.45045   │\n",
      "│ ERR6913210    │ 0.38104   │\n",
      "│ ERR6913214    │ 0.37324   │\n",
      "│ ERR6913215    │ 0.19892   │\n",
      "│ ERR6913211    │ 0.1784    │\n",
      "│ ERR6913204    │ 0.17061   │\n",
      "│ ERR6913201    │ 0.16081   │\n",
      "│ ERR6913219    │ 0.04285   │\n",
      "│ ERR6913197    │ 0.04142   │\n",
      "│ ERR6913213    │ 0.03354   │\n",
      "│ ERR6913212    │ 0.03333   │\n",
      "│ ERR6913208    │ 0.02128   │\n",
      "│ ERR6913220    │ 0.01967   │\n",
      "│ ERR6913198    │ 0.01349   │\n",
      "│ ERR6913209    │ 0.00677   │\n",
      "│ ERR6913327    │ 0.00319   │\n",
      "│ ERR6913207    │ 0.00296   │\n",
      "│ ERR6913254    │ 0.0023    │\n",
      "│ ERR6913253    │ 0.00179   │\n",
      "└───────────────┴───────────┘\n"
     ]
    }
   ],
   "source": [
    "sqlite3 -cmd \".mode box\" /shared/projects/form_2022_19/pascal/central_database/sample_collab.db \\\n",
    "\"select run_accession, sum(fraction_total_reads) as abundance from bracken_abundances_long where taxon_name='Severe acute respiratory syndrome-related coronavirus' group by run_accession order by abundance desc limit 20\""
   ]
  },
  {
   "cell_type": "code",
   "execution_count": 9,
   "id": "1a82fdbb-6b90-4579-80b0-fa4ce62af180",
   "metadata": {},
   "outputs": [
    {
     "name": "stdout",
     "output_type": "stream",
     "text": [
      "-- Loading resources from /shared/home/hong/.sqliterc\n",
      "┌───────────────┬──────────────────────────────────┬─────────────┬──────────────┬───────────────────────┬─────────────┬───────────────┬──────────────────────┬─────────────────┬──────────────┬─────┬────────────────┬─────────────────────┬────────────────────────────┬──────┬─────────────┬────────────┬────────────┐\n",
      "│ run_accession │            taxon_name            │ taxonomy_id │ taxonomy_lvl │ kraken_assigned_reads │ added_reads │ new_est_reads │ fraction_total_reads │ host_subject_id │ patient_code │ nuc │ host_body_site │ host_disease_status │  miscellaneous_parameter   │  Ct  │ total_reads │ read_count │ base_count │\n",
      "├───────────────┼──────────────────────────────────┼─────────────┼──────────────┼───────────────────────┼─────────────┼───────────────┼──────────────────────┼─────────────────┼──────────────┼─────┼────────────────┼─────────────────────┼────────────────────────────┼──────┼─────────────┼────────────┼────────────┤\n",
      "│ ERR6913139    │ Streptococcus sp. oral taxon 431 │ 712633      │ S            │ 14058                 │ 685         │ 14743         │ 0.02138              │ P30_DNA_L001_2  │ P30          │ DNA │ Nasopharyngeal │ SARS-CoV-2 positive │ Asymptomatic-DNA-sequenced │ 20.5 │ 22497882    │ 2049276    │ 282785996  │\n",
      "│ ERR6913139    │ Streptococcus sp. oral taxon 061 │ 712623      │ S            │ 10466                 │ 477         │ 10943         │ 0.01587              │ P30_DNA_L001_2  │ P30          │ DNA │ Nasopharyngeal │ SARS-CoV-2 positive │ Asymptomatic-DNA-sequenced │ 20.5 │ 22497882    │ 2049276    │ 282785996  │\n",
      "│ ERR6913139    │ Streptococcus sp. A12            │ 1759399     │ S            │ 5521                  │ 660         │ 6181          │ 0.00896              │ P30_DNA_L001_2  │ P30          │ DNA │ Nasopharyngeal │ SARS-CoV-2 positive │ Asymptomatic-DNA-sequenced │ 20.5 │ 22497882    │ 2049276    │ 282785996  │\n",
      "│ ERR6913139    │ Streptococcus sp. 116-D4         │ 2598453     │ S            │ 2068                  │ 195         │ 2263          │ 0.00328              │ P30_DNA_L001_2  │ P30          │ DNA │ Nasopharyngeal │ SARS-CoV-2 positive │ Asymptomatic-DNA-sequenced │ 20.5 │ 22497882    │ 2049276    │ 282785996  │\n",
      "│ ERR6913139    │ Streptococcus sp. HSISM1         │ 1316408     │ S            │ 1732                  │ 334         │ 2066          │ 0.003                │ P30_DNA_L001_2  │ P30          │ DNA │ Nasopharyngeal │ SARS-CoV-2 positive │ Asymptomatic-DNA-sequenced │ 20.5 │ 22497882    │ 2049276    │ 282785996  │\n",
      "└───────────────┴──────────────────────────────────┴─────────────┴──────────────┴───────────────────────┴─────────────┴───────────────┴──────────────────────┴─────────────────┴──────────────┴─────┴────────────────┴─────────────────────┴────────────────────────────┴──────┴─────────────┴────────────┴────────────┘\n"
     ]
    }
   ],
   "source": [
    "sqlite3 -cmd \".mode box\" /shared/projects/form_2022_19/pascal/central_database/sample_collab.db \\\n",
    "\"select * from (bracken_abundances_long abu left join sample_annot using(run_accession)) limit 5\""
   ]
  },
  {
   "cell_type": "code",
   "execution_count": 28,
   "id": "0ad0c47c-c73c-46ad-a59e-a2a5818d0a9a",
   "metadata": {},
   "outputs": [
    {
     "name": "stdout",
     "output_type": "stream",
     "text": [
      "-- Loading resources from /shared/home/hong/.sqliterc\n",
      "┌──────┬────────────────────┬───────────────────────────────────────────────────────┐\n",
      "│ freq │   mean_fraction    │                      taxon_name                       │\n",
      "├──────┼────────────────────┼───────────────────────────────────────────────────────┤\n",
      "│ 1    │ 0.97034            │ Influenza A virus                                     │\n",
      "│ 2    │ 0.23939            │ Chlamydia pneumoniae                                  │\n",
      "│ 1    │ 0.08508            │ Bradyrhizobium sp. KBS0725                            │\n",
      "│ 107  │ 0.0771710280373832 │ Prevotella melaninogenica                             │\n",
      "│ 43   │ 0.0679488372093023 │ Severe acute respiratory syndrome-related coronavirus │\n",
      "│ 155  │ 0.058726129032258  │ Cutibacterium acnes                                   │\n",
      "│ 40   │ 0.05460875         │ Moraxella nonliquefaciens                             │\n",
      "│ 9    │ 0.0514388888888889 │ Moraxella ovis                                        │\n",
      "│ 99   │ 0.0509304040404041 │ Veillonella atypica                                   │\n",
      "│ 103  │ 0.0499825242718447 │ Streptococcus salivarius                              │\n",
      "└──────┴────────────────────┴───────────────────────────────────────────────────────┘\n"
     ]
    }
   ],
   "source": [
    "sqlite3 -cmd \".mode box\" /shared/projects/form_2022_19/pascal/central_database/sample_collab.db \\\n",
    "\"select count(patient_code) as freq, avg(fraction_total_reads) as mean_fraction, taxon_name from (bracken_abundances_long abu left join sample_annot using(run_accession)) group by taxon_name order by mean_fraction desc limit 10\""
   ]
  },
  {
   "cell_type": "code",
   "execution_count": 29,
   "id": "29d51871-8145-40e3-a78e-b2685dd51655",
   "metadata": {},
   "outputs": [
    {
     "name": "stdout",
     "output_type": "stream",
     "text": [
      "-- Loading resources from /shared/home/hong/.sqliterc\n",
      "┌──────┬─────────────────────┬────────────────────────────┐\n",
      "│ freq │    mean_fraction    │         taxon_name         │\n",
      "├──────┼─────────────────────┼────────────────────────────┤\n",
      "│ 155  │ 0.058726129032258   │ Cutibacterium acnes        │\n",
      "│ 154  │ 0.010751038961039   │ Homo sapiens               │\n",
      "│ 124  │ 0.00246556451612903 │ Pseudomonas fluorescens    │\n",
      "│ 119  │ 0.00432680672268908 │ Staphylococcus epidermidis │\n",
      "│ 117  │ 0.00751401709401709 │ Malassezia restricta       │\n",
      "│ 116  │ 0.0339225           │ Streptococcus mitis        │\n",
      "│ 116  │ 0.00145663793103448 │ Pseudomonas stutzeri       │\n",
      "│ 114  │ 0.004565            │ Moraxella osloensis        │\n",
      "│ 113  │ 0.0117648672566372  │ Streptococcus oralis       │\n",
      "│ 113  │ 0.0211893805309735  │ Rothia mucilaginosa        │\n",
      "└──────┴─────────────────────┴────────────────────────────┘\n"
     ]
    }
   ],
   "source": [
    "sqlite3 -cmd \".mode box\" /shared/projects/form_2022_19/pascal/central_database/sample_collab.db \\\n",
    "\"select count(patient_code) as freq, avg(fraction_total_reads) as mean_fraction, taxon_name from (bracken_abundances_long abu left join sample_annot using(run_accession)) group by taxon_name order by freq desc limit 10\""
   ]
  },
  {
   "cell_type": "code",
   "execution_count": null,
   "id": "4b8060cc-21f5-467b-8e5e-a7a14d227986",
   "metadata": {},
   "outputs": [
    {
     "name": "stdout",
     "output_type": "stream",
     "text": [
      "-- Loading resources from /shared/home/hong/.sqliterc\n"
     ]
    }
   ],
   "source": [
    "sqlite3 -cmd \".mode box\" /shared/projects/form_2022_19/pascal/central_database/sample_collab.db \\\n",
    "\"select count(patient_code) as freq, avg(fraction_total_reads) as mean_fraction, taxon_name from (bracken_abundances_long abu left join sample_annot using(run_accession)) group by taxon_name having host_disease_status='SARS-CoV-2 positive' order by freq desc limit 10\""
   ]
  },
  {
   "cell_type": "code",
   "execution_count": 1,
   "id": "9a004b3f-e865-41aa-b31e-0e46c728405d",
   "metadata": {},
   "outputs": [
    {
     "name": "stdout",
     "output_type": "stream",
     "text": [
      "bash: syntax error near unexpected token `\"heatmaply\"'\n",
      "bash: syntax error near unexpected token `tidyverse'\n",
      "bash: syntax error near unexpected token `DBI'\n",
      "bash: syntax error near unexpected token `('\n",
      "bash: syntax error near unexpected token `('\n",
      "bash: syntax error near unexpected token `('\n",
      "bash: syntax error near unexpected token `('\n",
      "bash: syntax error near unexpected token `('\n",
      "bash: syntax error near unexpected token `('\n",
      "bash: syntax error near unexpected token `('\n",
      "bash: syntax error near unexpected token `abun_wide_hm,'\n",
      "bash: syntax error near unexpected token `('\n",
      "bash: col_side_colors: command not found\n",
      "bash: main: command not found\n",
      "bash: key.title=Abundance,: command not found\n",
      "bash: syntax error near unexpected token `)'\n"
     ]
    },
    {
     "ename": "",
     "evalue": "2",
     "output_type": "error",
     "traceback": []
    }
   ],
   "source": []
  },
  {
   "cell_type": "code",
   "execution_count": null,
   "id": "b89fc476-e808-4905-9200-275cc029697e",
   "metadata": {},
   "outputs": [],
   "source": []
  }
 ],
 "metadata": {
  "kernelspec": {
   "display_name": "Bash",
   "language": "bash",
   "name": "bash"
  },
  "language_info": {
   "codemirror_mode": "shell",
   "file_extension": ".sh",
   "mimetype": "text/x-sh",
   "name": "bash"
  }
 },
 "nbformat": 4,
 "nbformat_minor": 5
}
