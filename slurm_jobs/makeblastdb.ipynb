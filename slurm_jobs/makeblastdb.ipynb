{
 "cells": [
  {
   "cell_type": "code",
   "execution_count": 1,
   "id": "9a06d384-446c-4da4-af46-bbf0115bbbb3",
   "metadata": {},
   "outputs": [],
   "source": [
    "# mkdir ../analyses/blastn\n",
    "# mkdir ../data/blast_db\n",
    "cd ../analyses/blastn"
   ]
  },
  {
   "cell_type": "code",
   "execution_count": 2,
   "id": "86c4bca5-c989-4fe2-ad95-5c05bf78d20e",
   "metadata": {},
   "outputs": [
    {
     "name": "stdout",
     "output_type": "stream",
     "text": [
      "total 605272\n",
      "drwxr-x---+  2 phingamp phingamp      4096 Jun  2 13:26 \u001b[0m\u001b[01;34m.\u001b[0m\n",
      "drwxrwx---+ 35 root     root          4096 Jun 13 15:10 \u001b[01;34m..\u001b[0m\n",
      "-rw-r-----+  1 phingamp phingamp  24855012 Jun  2 13:25 viral.1.1.genomic.fna.gz\n",
      "-rw-r-----+  1 phingamp phingamp  52936475 Jun  2 13:25 viral.2.1.genomic.fna.gz\n",
      "-rw-r-----+  1 phingamp phingamp  58435694 Jun  2 13:25 viral.3.1.genomic.fna.gz\n",
      "-rw-r-----+  1 phingamp phingamp   7105789 Jun  2 13:25 viral.4.1.genomic.fna.gz\n",
      "-rw-r-----+  1 phingamp phingamp 476425363 Jun  2 13:26 viral.genomic.fna\n"
     ]
    }
   ],
   "source": [
    "ls -la /shared/projects/form_2022_19/refseq/"
   ]
  },
  {
   "cell_type": "code",
   "execution_count": 8,
   "id": "9e23664a-0d89-4556-b327-60fd2c8a5413",
   "metadata": {},
   "outputs": [
    {
     "name": "stdout",
     "output_type": "stream",
     "text": [
      "WARNING: terminal is not fully functional\n",
      "-  (press RETURN)\u0007\n"
     ]
    }
   ],
   "source": [
    "#module load blast\n",
    "module seqkit"
   ]
  },
  {
   "cell_type": "code",
   "execution_count": 6,
   "id": "f73e59ca-7606-453b-bbd4-0e869fd984ff",
   "metadata": {},
   "outputs": [],
   "source": [
    "cat /shared/projects/form_2022_19/refseq/* > ../../data/blast_db/viral.genomic.fna.gz"
   ]
  },
  {
   "cell_type": "code",
   "execution_count": 12,
   "id": "2df8fd33-9f30-4d7b-a1c2-ddfe1b2477fd",
   "metadata": {},
   "outputs": [
    {
     "name": "stdout",
     "output_type": "stream",
     "text": [
      "\n",
      "\n",
      "Building a new DB, current time: 06/13/2022 16:18:00\n",
      "New DB name:   /shared/ifbstor1/projects/form_2022_19/hong/sars2copath/analyses/data/blast_db\n",
      "New DB title:  viral_hong\n",
      "Sequence type: Nucleotide\n",
      "Keep MBits: T\n",
      "Maximum file size: 1000000000B\n",
      "Adding sequences from FASTA; added 14813 sequences in 4.59447 seconds.\n",
      "\n",
      "\n"
     ]
    }
   ],
   "source": [
    "makeblastdb -in /shared/projects/form_2022_19/refseq/viral.genomic.fna -title viral_hong -out ../data/blast_db/ -dbtype nucl"
   ]
  },
  {
   "cell_type": "code",
   "execution_count": 7,
   "id": "8d790d5f-5b85-4444-b19c-25d952c8c36c",
   "metadata": {},
   "outputs": [
    {
     "name": "stdout",
     "output_type": "stream",
     "text": [
      "bash: seqkit: command not found\n",
      "\n",
      "gzip: stdout: Broken pipe\n"
     ]
    },
    {
     "ename": "",
     "evalue": "127",
     "output_type": "error",
     "traceback": []
    }
   ],
   "source": [
    "zcat ../../data/blast_db/viral.genomic.fna.gz | seqkit sample -n 3 -o ../../data/blast_db/viral.genomic.sample3.fna.gz"
   ]
  },
  {
   "cell_type": "code",
   "execution_count": null,
   "id": "f5bbf649-146f-4aae-8fe3-bdc7c334c3f6",
   "metadata": {},
   "outputs": [],
   "source": []
  }
 ],
 "metadata": {
  "kernelspec": {
   "display_name": "Bash",
   "language": "bash",
   "name": "bash"
  },
  "language_info": {
   "codemirror_mode": "shell",
   "file_extension": ".sh",
   "mimetype": "text/x-sh",
   "name": "bash"
  }
 },
 "nbformat": 4,
 "nbformat_minor": 5
}
